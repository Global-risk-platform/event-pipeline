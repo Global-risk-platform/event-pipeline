{
 "cells": [
  {
   "cell_type": "code",
   "execution_count": 2,
   "id": "fedce97f",
   "metadata": {},
   "outputs": [
    {
     "name": "stdout",
     "output_type": "stream",
     "text": [
      "+----------+-----------------+-------------+-----------+-----------+------------------+---------------------+--------+-------------------+\n",
      "|event_date|Actor1CountryCode|EventRootCode|day_of_week|event_count|avg_conflict_score|stddev_conflict_score|avg_tone|unique_source_count|\n",
      "+----------+-----------------+-------------+-----------+-----------+------------------+---------------------+--------+-------------------+\n",
      "|      NULL|              HTI|         NULL|       NULL|      68538|              NULL|                 NULL|    NULL|               NULL|\n",
      "|      NULL|              ERI|         NULL|       NULL|       6970|              NULL|                 NULL|    NULL|               NULL|\n",
      "|      NULL|              ECU|         NULL|       NULL|      52353|              NULL|                 NULL|    NULL|               NULL|\n",
      "|      NULL|              JPN|         NULL|       NULL|     350444|              NULL|                 NULL|    NULL|               NULL|\n",
      "|      NULL|              SAU|         NULL|       NULL|     222020|              NULL|                 NULL|    NULL|               NULL|\n",
      "|      NULL|              SEA|         NULL|       NULL|      36420|              NULL|                 NULL|    NULL|               NULL|\n",
      "|      NULL|              LBY|         NULL|       NULL|      38504|              NULL|                 NULL|    NULL|               NULL|\n",
      "|      NULL|              BHR|         NULL|       NULL|      29881|              NULL|                 NULL|    NULL|               NULL|\n",
      "|      NULL|              EAF|         NULL|       NULL|        809|              NULL|                 NULL|    NULL|               NULL|\n",
      "|      NULL|              WST|         NULL|       NULL|     141408|              NULL|                 NULL|    NULL|               NULL|\n",
      "|      NULL|              CIV|         NULL|       NULL|      10230|              NULL|                 NULL|    NULL|               NULL|\n",
      "|      NULL|              PLW|         NULL|       NULL|       4861|              NULL|                 NULL|    NULL|               NULL|\n",
      "|      NULL|              LUX|         NULL|       NULL|      18850|              NULL|                 NULL|    NULL|               NULL|\n",
      "|      NULL|              NPL|         NULL|       NULL|      76283|              NULL|                 NULL|    NULL|               NULL|\n",
      "|      NULL|              ZAF|         NULL|       NULL|     118049|              NULL|                 NULL|    NULL|               NULL|\n",
      "|      NULL|              YEM|         NULL|       NULL|      86277|              NULL|                 NULL|    NULL|               NULL|\n",
      "|      NULL|              MLI|         NULL|       NULL|      28257|              NULL|                 NULL|    NULL|               NULL|\n",
      "|      NULL|              IRQ|         NULL|       NULL|     148921|              NULL|                 NULL|    NULL|               NULL|\n",
      "|      NULL|              CHL|         NULL|       NULL|      46937|              NULL|                 NULL|    NULL|               NULL|\n",
      "|      NULL|              EST|         NULL|       NULL|      42325|              NULL|                 NULL|    NULL|               NULL|\n",
      "+----------+-----------------+-------------+-----------+-----------+------------------+---------------------+--------+-------------------+\n",
      "\n"
     ]
    }
   ],
   "source": [
    "delta_path = \"s3a://silver/gdelt_events\"\n",
    "df = spark.read.format(\"delta\").load(delta_path)\n",
    "df.show()"
   ]
  },
  {
   "cell_type": "code",
   "execution_count": null,
   "id": "6ec9ff92",
   "metadata": {},
   "outputs": [
    {
     "name": "stderr",
     "output_type": "stream",
     "text": [
      "25/08/18 14:41:20 WARN NativeCodeLoader: Unable to load native-hadoop library for your platform... using builtin-java classes where applicable\n",
      "Setting default log level to \"WARN\".\n",
      "To adjust logging level use sc.setLogLevel(newLevel). For SparkR, use setLogLevel(newLevel).\n"
     ]
    },
    {
     "name": "stdout",
     "output_type": "stream",
     "text": [
      "✅ SparkSession 생성 완료!\n"
     ]
    },
    {
     "name": "stderr",
     "output_type": "stream",
     "text": [
      "25/08/18 14:41:31 WARN MetricsConfig: Cannot locate configuration: tried hadoop-metrics2-s3a-file-system.properties,hadoop-metrics2.properties\n",
      "25/08/18 14:41:42 WARN package: Truncated the string representation of a plan since it was too large. This behavior can be adjusted by setting 'spark.sql.debug.maxToStringFields'.\n",
      "[Stage 4:=================================================>       (43 + 5) / 50]\r"
     ]
    },
    {
     "name": "stdout",
     "output_type": "stream",
     "text": [
      "✅ Delta Lake 저장 성공: s3a://bronze/final-test\n"
     ]
    },
    {
     "name": "stderr",
     "output_type": "stream",
     "text": [
      "                                                                                \r"
     ]
    }
   ],
   "source": [
    "\n",
    "# 2. 최종 SparkSession 생성 (JAR 직접 사용)\n",
    "from pyspark.sql import SparkSession\n",
    "from delta import configure_spark_with_delta_pip\n",
    "\n",
    "spark = SparkSession.builder \\\n",
    "    .appName(\"Jupyter_Final_Test\") \\\n",
    "    .master(\"local[*]\") \\\n",
    "    .config(\"spark.jars\",\"/opt/spark/jars/delta-core_2.12-2.4.0.jar,/opt/spark/jars/delta-storage-2.4.0.jar,/opt/spark/jars/hadoop-aws-3.3.4.jar,/opt/spark/jars/aws-java-sdk-bundle-1.12.367.jar\") \\\n",
    "    .config(\"spark.sql.extensions\", \"io.delta.sql.DeltaSparkSessionExtension\") \\\n",
    "    .config(\"spark.sql.catalog.spark_catalog\",\"org.apache.spark.sql.delta.catalog.DeltaCatalog\") \\\n",
    "    .config(\"spark.hadoop.fs.s3a.endpoint\", \"http://minio:9000\") \\\n",
    "    .config(\"spark.hadoop.fs.s3a.access.key\", \"minioadmin\") \\\n",
    "    .config(\"spark.hadoop.fs.s3a.secret.key\", \"minioadmin\") \\\n",
    "    .config(\"spark.hadoop.fs.s3a.path.style.access\", \"true\") \\\n",
    "    .config(\"spark.hadoop.fs.s3a.impl\", \"org.apache.hadoop.fs.s3a.S3AFileSystem\") \\\n",
    "    .getOrCreate()\n",
    "print(\"!! SparkSession 생성 완료!\") \n",
    "# 3. 테스트\n",
    "import pandas as pd\n",
    "data = {'id': range(10), 'value': [f'value_{i}' for i in range(10)]}\n",
    "pdf = pd.DataFrame(data)\n",
    "df_dummy = spark.createDataFrame(pdf)\n",
    "# Delta Lake 저장 테스트\n",
    "dummy_path = \"s3a://bronze/final-test\"\n",
    "df_dummy.write.format(\"delta\").mode(\"overwrite\").save(dummy_path)\n",
    "print(f\" Delta Lake 저장 성공: {dummy_path}\")"
   ]
  },
  {
   "cell_type": "code",
   "execution_count": 8,
   "id": "433bd7b2",
   "metadata": {},
   "outputs": [],
   "source": [
    "spark.stop()"
   ]
  },
  {
   "cell_type": "code",
   "execution_count": 2,
   "id": "ac6c8e5f",
   "metadata": {},
   "outputs": [
    {
     "name": "stderr",
     "output_type": "stream",
     "text": [
      "[Stage 12:================================================>       (43 + 5) / 50]\r"
     ]
    },
    {
     "name": "stdout",
     "output_type": "stream",
     "text": [
      "'s3a://bronze/dummy-performance-testv2' 경로에 테스트 데이터 저장 완료.\n"
     ]
    },
    {
     "name": "stderr",
     "output_type": "stream",
     "text": [
      "                                                                                \r"
     ]
    }
   ],
   "source": [
    "import pandas as pd\n",
    "from pyspark.sql.functions import col\n",
    "\n",
    "# 1. 100줄짜리 판다스 데이터프레임 생성\n",
    "data = {'id': range(100), 'value': [f'value_{i}' for i in range(100)]}\n",
    "pdf = pd.DataFrame(data)\n",
    "\n",
    "# 2. 스파크 데이터프레임으로 변환\n",
    "df_dummy = spark.createDataFrame(pdf)\n",
    "\n",
    "# 3. MinIO의 'bronze' 버킷에 Delta 테이블로 저장\n",
    "dummy_path = \"s3a://bronze/dummy-performance-testv2\"\n",
    "df_dummy.write.format(\"delta\").mode(\"overwrite\").save(dummy_path)\n",
    "\n",
    "print(f\"'{dummy_path}' 경로에 테스트 데이터 저장 완료.\")"
   ]
  }
 ],
 "metadata": {
  "kernelspec": {
   "display_name": "Python 3 (ipykernel)",
   "language": "python",
   "name": "python3"
  },
  "language_info": {
   "codemirror_mode": {
    "name": "ipython",
    "version": 3
   },
   "file_extension": ".py",
   "mimetype": "text/x-python",
   "name": "python",
   "nbconvert_exporter": "python",
   "pygments_lexer": "ipython3",
   "version": "3.10.18"
  }
 },
 "nbformat": 4,
 "nbformat_minor": 5
}
