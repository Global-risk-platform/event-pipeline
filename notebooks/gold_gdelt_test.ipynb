{
 "cells": [
  {
   "cell_type": "markdown",
   "metadata": {},
   "source": [
    "# Gold Layer 테스트 노트북\n",
    "\n",
    "dbt로 생성된 Gold 테이블 확인용"
   ]
  },
  {
   "cell_type": "code",
   "execution_count": null,
   "metadata": {},
   "outputs": [],
   "source": [
    "import sys\n",
    "sys.path.append('/app')\n",
    "\n",
    "from src.utils.spark_builder import get_spark_session\n",
    "from pyspark.sql import functions as F\n",
    "\n",
    "# Spark 세션 생성\n",
    "spark = get_spark_session(\"GDELT_Gold_Test\", \"spark://spark-master:7077\")\n",
    "print(\"✅ Spark 세션 생성 완료\")"
   ]
  },
  {
   "cell_type": "code",
   "execution_count": null,
   "metadata": {},
   "outputs": [],
   "source": [
    "# Gold Table 읽기 (dbt가 생성한 테이블)\n",
    "gold_df = spark.read.format(\"delta\").load(\"s3a://gold/gdelt_microbatch_country_analysis\")\n",
    "\n",
    "print(f\"📊 Gold 테이블 레코드 수: {gold_df.count()}\")\n",
    "print(f\"📋 컬럼 수: {len(gold_df.columns)}\")"
   ]
  },
  {
   "cell_type": "code",
   "execution_count": null,
   "metadata": {},
   "outputs": [],
   "source": [
    "# Gold 테이블 스키마 확인\n",
    "print(\"📝 Gold 테이블 컬럼:\")\n",
    "for i, col in enumerate(gold_df.columns, 1):\n",
    "    print(f\"{i:2d}. {col}\")\n",
    "\n",
    "print(\"\\n🔍 스키마:\")\n",
    "gold_df.printSchema()"
   ]
  },
  {
   "cell_type": "code",
   "execution_count": null,
   "metadata": {},
   "outputs": [],
   "source": [
    "# Gold 데이터 샘플 확인\n",
    "print(\"🔍 Gold 테이블 샘플 데이터:\")\n",
    "gold_df.show(10, truncate=False)"
   ]
  },
  {
   "cell_type": "code",
   "execution_count": null,
   "metadata": {},
   "outputs": [],
   "source": [
    "# 국가별 이벤트 통계\n",
    "print(\"📊 국가별 총 이벤트 수 (Top 10):\")\n",
    "gold_df.groupBy(\"actor1_country_code\") \\\n",
    "    .agg(F.sum(\"total_events\").alias(\"total_country_events\")) \\\n",
    "    .orderBy(F.desc(\"total_country_events\")) \\\n",
    "    .show(10)"
   ]
  },
  {
   "cell_type": "code",
   "execution_count": null,
   "metadata": {},
   "outputs": [],
   "source": [
    "# 이벤트 타입별 통계\n",
    "print(\"📊 이벤트 타입별 총 이벤트 수 (Top 10):\")\n",
    "gold_df.groupBy(\"event_root_code\") \\\n",
    "    .agg(F.sum(\"total_events\").alias(\"total_event_type\")) \\\n",
    "    .orderBy(F.desc(\"total_event_type\")) \\\n",
    "    .show(10)"
   ]
  },
  {
   "cell_type": "code",
   "execution_count": null,
   "metadata": {},
   "outputs": [],
   "source": [
    "# 톤 분석\n",
    "print(\"📊 전체 톤 분석:\")\n",
    "gold_df.select(\n",
    "    F.avg(\"average_tone\").alias(\"overall_avg_tone\"),\n",
    "    F.min(\"min_tone\").alias(\"global_min_tone\"),\n",
    "    F.max(\"max_tone\").alias(\"global_max_tone\")\n",
    ").show()"
   ]
  },
  {
   "cell_type": "code",
   "execution_count": null,
   "metadata": {},
   "outputs": [],
   "source": [
    "spark.stop()\n",
    "print(\"✅ 테스트 완료!\")"
   ]
  }
 ],
 "metadata": {
  "kernelspec": {
   "display_name": "Python 3",
   "language": "python",
   "name": "python3"
  },
  "language_info": {
   "codemirror_mode": {
    "name": "ipython",
    "version": 3
   },
   "file_extension": ".py",
   "mimetype": "text/x-python",
   "name": "python",
   "nbconvert_exporter": "python",
   "pygments_lexer": "ipython3",
   "version": "3.10.12"
  }
 },
 "nbformat": 4,
 "nbformat_minor": 4
}