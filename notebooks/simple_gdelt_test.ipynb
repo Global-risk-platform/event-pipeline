{
 "cells": [
  {
   "cell_type": "markdown",
   "metadata": {},
   "source": [
    "# 간단한 GDELT 테스트 노트북\n",
    "\n",
    "Raw 테이블 불러와서 컬럼들 확인하는 용도"
   ]
  },
  {
   "cell_type": "code",
   "execution_count": null,
   "metadata": {},
   "outputs": [],
   "source": [
    "import sys\n",
    "sys.path.append('/app')\n",
    "\n",
    "from src.utils.spark_builder import get_spark_session\n",
    "from pyspark.sql import functions as F\n",
    "\n",
    "# Spark 세션 생성\n",
    "spark = get_spark_session(\"GDELT_Test\", \"spark://spark-master:7077\")\n",
    "print(\"✅ Spark 세션 생성 완료\")"
   ]
  },
  {
   "cell_type": "code",
   "execution_count": null,
   "metadata": {},
   "outputs": [],
   "source": [
    "# Raw Table 읽기\n",
    "df = spark.read.format(\"delta\").load(\"s3a://raw/gdelt_events\")\n",
    "\n",
    "print(f\"📊 레코드 수: {df.count()}\")\n",
    "print(f\"📋 컬럼 수: {len(df.columns)}\")"
   ]
  },
  {
   "cell_type": "code",
   "execution_count": null,
   "metadata": {},
   "outputs": [],
   "source": [
    "# 전체 컬럼명 확인\n",
    "print(\"📝 전체 컬럼 목록:\")\n",
    "for i, col in enumerate(df.columns, 1):\n",
    "    print(f\"{i:2d}. {col}\")"
   ]
  },
  {
   "cell_type": "code",
   "execution_count": null,
   "metadata": {},
   "outputs": [],
   "source": [
    "# 샘플 데이터 확인\n",
    "print(\"🔍 샘플 데이터:\")\n",
    "df.show(5, truncate=False)"
   ]
  },
  {
   "cell_type": "code",
   "execution_count": null,
   "metadata": {},
   "outputs": [],
   "source": [
    "# 스키마 확인\n",
    "df.printSchema()"
   ]
  },
  {
   "cell_type": "code",
   "execution_count": null,
   "metadata": {},
   "outputs": [],
   "source": [
    "# 간단한 통계\n",
    "df.select(\"actor1_country_code\").groupBy(\"actor1_country_code\").count().orderBy(F.desc(\"count\")).show(10)"
   ]
  },
  {
   "cell_type": "code",
   "execution_count": null,
   "metadata": {},
   "outputs": [],
   "source": [
    "spark.stop()"
   ]
  }
 ],
 "metadata": {
  "kernelspec": {
   "display_name": "Python 3",
   "language": "python",
   "name": "python3"
  },
  "language_info": {
   "codemirror_mode": {
    "name": "ipython",
    "version": 3
   },
   "file_extension": ".py",
   "mimetype": "text/x-python",
   "name": "python",
   "nbconvert_exporter": "python",
   "pygments_lexer": "ipython3",
   "version": "3.10.0"
  }
 },
 "nbformat": 4,
 "nbformat_minor": 4
}