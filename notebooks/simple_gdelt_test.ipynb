{
 "cells": [
  {
   "cell_type": "markdown",
   "metadata": {},
   "source": [
    "# 간단한 GDELT 테스트 노트북\n",
    "\n",
    "Silver 테이블 불러와서 컬럼들 확인하는 용도"
   ]
  },
  {
   "cell_type": "code",
   "execution_count": 1,
   "metadata": {},
   "outputs": [
    {
     "name": "stdout",
     "output_type": "stream",
     "text": [
      ":: loading settings :: url = jar:file:/usr/local/lib/python3.10/site-packages/pyspark/jars/ivy-2.5.1.jar!/org/apache/ivy/core/settings/ivysettings.xml\n"
     ]
    },
    {
     "name": "stderr",
     "output_type": "stream",
     "text": [
      "Ivy Default Cache set to: /root/.ivy2/cache\n",
      "The jars for the packages stored in: /root/.ivy2/jars\n",
      "io.delta#delta-core_2.12 added as a dependency\n",
      "org.apache.hadoop#hadoop-aws added as a dependency\n",
      "com.amazonaws#aws-java-sdk-bundle added as a dependency\n",
      "org.apache.spark#spark-sql-kafka-0-10_2.12 added as a dependency\n",
      "org.postgresql#postgresql added as a dependency\n",
      ":: resolving dependencies :: org.apache.spark#spark-submit-parent-8cceb3cb-a4ae-4201-9c74-39c8d7035343;1.0\n",
      "\tconfs: [default]\n",
      "\tfound io.delta#delta-core_2.12;2.4.0 in central\n",
      "\tfound io.delta#delta-storage;2.4.0 in central\n",
      "\tfound org.antlr#antlr4-runtime;4.9.3 in central\n",
      "\tfound org.apache.hadoop#hadoop-aws;3.3.4 in central\n",
      "\tfound org.wildfly.openssl#wildfly-openssl;1.0.7.Final in central\n",
      "\tfound com.amazonaws#aws-java-sdk-bundle;1.12.367 in central\n",
      "\tfound org.apache.spark#spark-sql-kafka-0-10_2.12;3.4.3 in central\n",
      "\tfound org.apache.spark#spark-token-provider-kafka-0-10_2.12;3.4.3 in central\n",
      "\tfound org.apache.kafka#kafka-clients;3.3.2 in central\n",
      "\tfound org.lz4#lz4-java;1.8.0 in central\n",
      "\tfound org.xerial.snappy#snappy-java;1.1.10.5 in central\n",
      "\tfound org.slf4j#slf4j-api;2.0.6 in central\n",
      "\tfound org.apache.hadoop#hadoop-client-runtime;3.3.4 in central\n",
      "\tfound org.apache.hadoop#hadoop-client-api;3.3.4 in central\n",
      "\tfound commons-logging#commons-logging;1.1.3 in central\n",
      "\tfound com.google.code.findbugs#jsr305;3.0.0 in central\n",
      "\tfound org.apache.commons#commons-pool2;2.11.1 in central\n",
      "\tfound org.postgresql#postgresql;42.7.3 in central\n",
      "\tfound org.checkerframework#checker-qual;3.42.0 in central\n",
      "downloading https://repo1.maven.org/maven2/io/delta/delta-core_2.12/2.4.0/delta-core_2.12-2.4.0.jar ...\n",
      "\t[SUCCESSFUL ] io.delta#delta-core_2.12;2.4.0!delta-core_2.12.jar (920ms)\n",
      "downloading https://repo1.maven.org/maven2/org/apache/hadoop/hadoop-aws/3.3.4/hadoop-aws-3.3.4.jar ...\n",
      "\t[SUCCESSFUL ] org.apache.hadoop#hadoop-aws;3.3.4!hadoop-aws.jar (314ms)\n",
      "downloading https://repo1.maven.org/maven2/com/amazonaws/aws-java-sdk-bundle/1.12.367/aws-java-sdk-bundle-1.12.367.jar ...\n",
      "\t[SUCCESSFUL ] com.amazonaws#aws-java-sdk-bundle;1.12.367!aws-java-sdk-bundle.jar (9791ms)\n",
      "downloading https://repo1.maven.org/maven2/org/apache/spark/spark-sql-kafka-0-10_2.12/3.4.3/spark-sql-kafka-0-10_2.12-3.4.3.jar ...\n",
      "\t[SUCCESSFUL ] org.apache.spark#spark-sql-kafka-0-10_2.12;3.4.3!spark-sql-kafka-0-10_2.12.jar (296ms)\n",
      "downloading https://repo1.maven.org/maven2/org/postgresql/postgresql/42.7.3/postgresql-42.7.3.jar ...\n",
      "\t[SUCCESSFUL ] org.postgresql#postgresql;42.7.3!postgresql.jar (319ms)\n",
      "downloading https://repo1.maven.org/maven2/io/delta/delta-storage/2.4.0/delta-storage-2.4.0.jar ...\n",
      "\t[SUCCESSFUL ] io.delta#delta-storage;2.4.0!delta-storage.jar (283ms)\n",
      "downloading https://repo1.maven.org/maven2/org/antlr/antlr4-runtime/4.9.3/antlr4-runtime-4.9.3.jar ...\n",
      "\t[SUCCESSFUL ] org.antlr#antlr4-runtime;4.9.3!antlr4-runtime.jar (290ms)\n",
      "downloading https://repo1.maven.org/maven2/org/wildfly/openssl/wildfly-openssl/1.0.7.Final/wildfly-openssl-1.0.7.Final.jar ...\n",
      "\t[SUCCESSFUL ] org.wildfly.openssl#wildfly-openssl;1.0.7.Final!wildfly-openssl.jar (296ms)\n",
      "downloading https://repo1.maven.org/maven2/org/apache/spark/spark-token-provider-kafka-0-10_2.12/3.4.3/spark-token-provider-kafka-0-10_2.12-3.4.3.jar ...\n",
      "\t[SUCCESSFUL ] org.apache.spark#spark-token-provider-kafka-0-10_2.12;3.4.3!spark-token-provider-kafka-0-10_2.12.jar (286ms)\n",
      "downloading https://repo1.maven.org/maven2/org/apache/kafka/kafka-clients/3.3.2/kafka-clients-3.3.2.jar ...\n",
      "\t[SUCCESSFUL ] org.apache.kafka#kafka-clients;3.3.2!kafka-clients.jar (456ms)\n",
      "downloading https://repo1.maven.org/maven2/com/google/code/findbugs/jsr305/3.0.0/jsr305-3.0.0.jar ...\n",
      "\t[SUCCESSFUL ] com.google.code.findbugs#jsr305;3.0.0!jsr305.jar (284ms)\n",
      "downloading https://repo1.maven.org/maven2/org/apache/commons/commons-pool2/2.11.1/commons-pool2-2.11.1.jar ...\n",
      "\t[SUCCESSFUL ] org.apache.commons#commons-pool2;2.11.1!commons-pool2.jar (290ms)\n",
      "downloading https://repo1.maven.org/maven2/org/apache/hadoop/hadoop-client-runtime/3.3.4/hadoop-client-runtime-3.3.4.jar ...\n",
      "\t[SUCCESSFUL ] org.apache.hadoop#hadoop-client-runtime;3.3.4!hadoop-client-runtime.jar (1205ms)\n",
      "downloading https://repo1.maven.org/maven2/org/lz4/lz4-java/1.8.0/lz4-java-1.8.0.jar ...\n",
      "\t[SUCCESSFUL ] org.lz4#lz4-java;1.8.0!lz4-java.jar (302ms)\n",
      "downloading https://repo1.maven.org/maven2/org/xerial/snappy/snappy-java/1.1.10.5/snappy-java-1.1.10.5.jar ...\n",
      "\t[SUCCESSFUL ] org.xerial.snappy#snappy-java;1.1.10.5!snappy-java.jar(bundle) (342ms)\n",
      "downloading https://repo1.maven.org/maven2/org/slf4j/slf4j-api/2.0.6/slf4j-api-2.0.6.jar ...\n",
      "\t[SUCCESSFUL ] org.slf4j#slf4j-api;2.0.6!slf4j-api.jar (284ms)\n",
      "downloading https://repo1.maven.org/maven2/org/apache/hadoop/hadoop-client-api/3.3.4/hadoop-client-api-3.3.4.jar ...\n",
      "\t[SUCCESSFUL ] org.apache.hadoop#hadoop-client-api;3.3.4!hadoop-client-api.jar (932ms)\n",
      "downloading https://repo1.maven.org/maven2/commons-logging/commons-logging/1.1.3/commons-logging-1.1.3.jar ...\n",
      "\t[SUCCESSFUL ] commons-logging#commons-logging;1.1.3!commons-logging.jar (284ms)\n",
      "downloading https://repo1.maven.org/maven2/org/checkerframework/checker-qual/3.42.0/checker-qual-3.42.0.jar ...\n",
      "\t[SUCCESSFUL ] org.checkerframework#checker-qual;3.42.0!checker-qual.jar (288ms)\n",
      ":: resolution report :: resolve 18218ms :: artifacts dl 17467ms\n",
      "\t:: modules in use:\n",
      "\tcom.amazonaws#aws-java-sdk-bundle;1.12.367 from central in [default]\n",
      "\tcom.google.code.findbugs#jsr305;3.0.0 from central in [default]\n",
      "\tcommons-logging#commons-logging;1.1.3 from central in [default]\n",
      "\tio.delta#delta-core_2.12;2.4.0 from central in [default]\n",
      "\tio.delta#delta-storage;2.4.0 from central in [default]\n",
      "\torg.antlr#antlr4-runtime;4.9.3 from central in [default]\n",
      "\torg.apache.commons#commons-pool2;2.11.1 from central in [default]\n",
      "\torg.apache.hadoop#hadoop-aws;3.3.4 from central in [default]\n",
      "\torg.apache.hadoop#hadoop-client-api;3.3.4 from central in [default]\n",
      "\torg.apache.hadoop#hadoop-client-runtime;3.3.4 from central in [default]\n",
      "\torg.apache.kafka#kafka-clients;3.3.2 from central in [default]\n",
      "\torg.apache.spark#spark-sql-kafka-0-10_2.12;3.4.3 from central in [default]\n",
      "\torg.apache.spark#spark-token-provider-kafka-0-10_2.12;3.4.3 from central in [default]\n",
      "\torg.checkerframework#checker-qual;3.42.0 from central in [default]\n",
      "\torg.lz4#lz4-java;1.8.0 from central in [default]\n",
      "\torg.postgresql#postgresql;42.7.3 from central in [default]\n",
      "\torg.slf4j#slf4j-api;2.0.6 from central in [default]\n",
      "\torg.wildfly.openssl#wildfly-openssl;1.0.7.Final from central in [default]\n",
      "\torg.xerial.snappy#snappy-java;1.1.10.5 from central in [default]\n",
      "\t:: evicted modules:\n",
      "\tcom.amazonaws#aws-java-sdk-bundle;1.12.262 by [com.amazonaws#aws-java-sdk-bundle;1.12.367] in [default]\n",
      "\t---------------------------------------------------------------------\n",
      "\t|                  |            modules            ||   artifacts   |\n",
      "\t|       conf       | number| search|dwnlded|evicted|| number|dwnlded|\n",
      "\t---------------------------------------------------------------------\n",
      "\t|      default     |   20  |   19  |   19  |   1   ||   19  |   19  |\n",
      "\t---------------------------------------------------------------------\n",
      ":: retrieving :: org.apache.spark#spark-submit-parent-8cceb3cb-a4ae-4201-9c74-39c8d7035343\n",
      "\tconfs: [default]\n",
      "\t19 artifacts copied, 0 already retrieved (367443kB/312ms)\n",
      "25/08/28 07:47:28 WARN NativeCodeLoader: Unable to load native-hadoop library for your platform... using builtin-java classes where applicable\n",
      "Setting default log level to \"WARN\".\n",
      "To adjust logging level use sc.setLogLevel(newLevel). For SparkR, use setLogLevel(newLevel).\n"
     ]
    },
    {
     "name": "stdout",
     "output_type": "stream",
     "text": [
      "✅ Spark 세션 생성 완료\n"
     ]
    }
   ],
   "source": [
    "import sys\n",
    "sys.path.append('/app')\n",
    "\n",
    "from src.utils.spark_builder import get_spark_session\n",
    "from pyspark.sql import functions as F\n",
    "\n",
    "# Spark 세션 생성\n",
    "spark = get_spark_session(\"GDELT_Test\", \"spark://spark-master:7077\")\n",
    "print(\"✅ Spark 세션 생성 완료\")"
   ]
  },
  {
   "cell_type": "code",
   "execution_count": 3,
   "metadata": {},
   "outputs": [
    {
     "name": "stderr",
     "output_type": "stream",
     "text": [
      "25/08/28 07:48:04 WARN package: Truncated the string representation of a plan since it was too large. This behavior can be adjusted by setting 'spark.sql.debug.maxToStringFields'.\n",
      "[Stage 3:======================>                                 (20 + 10) / 50]\r"
     ]
    },
    {
     "name": "stdout",
     "output_type": "stream",
     "text": [
      "📊 레코드 수: 3993\n",
      "📋 컬럼 수: 63\n"
     ]
    },
    {
     "name": "stderr",
     "output_type": "stream",
     "text": [
      "                                                                                \r"
     ]
    }
   ],
   "source": [
    "# Silver Table 읽기\n",
    "df = spark.read.format(\"delta\").load(\"s3a://silver/gdelt_events\")\n",
    "\n",
    "print(f\"📊 레코드 수: {df.count()}\")\n",
    "print(f\"📋 컬럼 수: {len(df.columns)}\")"
   ]
  },
  {
   "cell_type": "code",
   "execution_count": 4,
   "metadata": {},
   "outputs": [
    {
     "name": "stdout",
     "output_type": "stream",
     "text": [
      "📝 전체 컬럼 목록:\n",
      " 1. global_event_id\n",
      " 2. day\n",
      " 3. month_year\n",
      " 4. year\n",
      " 5. fraction_date\n",
      " 6. actor1_code\n",
      " 7. actor1_name\n",
      " 8. actor1_country_code\n",
      " 9. actor1_known_group_code\n",
      "10. actor1_ethnic_code\n",
      "11. actor1_religion1_code\n",
      "12. actor1_religion2_code\n",
      "13. actor1_type1_code\n",
      "14. actor1_type2_code\n",
      "15. actor1_type3_code\n",
      "16. actor2_code\n",
      "17. actor2_name\n",
      "18. actor2_country_code\n",
      "19. actor2_known_group_code\n",
      "20. actor2_ethnic_code\n",
      "21. actor2_religion1_code\n",
      "22. actor2_religion2_code\n",
      "23. actor2_type1_code\n",
      "24. actor2_type2_code\n",
      "25. actor2_type3_code\n",
      "26. is_root_event\n",
      "27. event_code\n",
      "28. event_base_code\n",
      "29. event_root_code\n",
      "30. quad_class\n",
      "31. goldstein_scale\n",
      "32. num_mentions\n",
      "33. num_sources\n",
      "34. num_articles\n",
      "35. avg_tone\n",
      "36. actor1_geo_type\n",
      "37. actor1_geo_fullname\n",
      "38. actor1_geo_country_code\n",
      "39. actor1_geo_adm1_code\n",
      "40. actor1_geo_lat\n",
      "41. actor1_geo_long\n",
      "42. actor1_geo_feature_id\n",
      "43. actor2_geo_type\n",
      "44. actor2_geo_fullname\n",
      "45. actor2_geo_country_code\n",
      "46. actor2_geo_adm1_code\n",
      "47. actor2_geo_lat\n",
      "48. actor2_geo_long\n",
      "49. actor2_geo_feature_id\n",
      "50. action_geo_type\n",
      "51. action_geo_fullname\n",
      "52. action_geo_country_code\n",
      "53. action_geo_adm1_code\n",
      "54. action_geo_lat\n",
      "55. action_geo_long\n",
      "56. action_geo_feature_id\n",
      "57. date_added\n",
      "58. source_url\n",
      "59. actor1_geo_centroid\n",
      "60. actor2_geo_centroid\n",
      "61. action_geo_centroid\n",
      "62. processed_time\n",
      "63. source_file\n"
     ]
    }
   ],
   "source": [
    "# 전체 컬럼명 확인\n",
    "print(\"📝 전체 컬럼 목록:\")\n",
    "for i, col in enumerate(df.columns, 1):\n",
    "    print(f\"{i:2d}. {col}\")"
   ]
  },
  {
   "cell_type": "code",
   "execution_count": 5,
   "metadata": {},
   "outputs": [
    {
     "name": "stdout",
     "output_type": "stream",
     "text": [
      "🔍 샘플 데이터:\n",
      "+---------------+--------+----------+----+-------------+-----------+-------------+-------------------+-----------------------+------------------+---------------------+---------------------+-----------------+-----------------+-----------------+-----------+-------------+-------------------+-----------------------+------------------+---------------------+---------------------+-----------------+-----------------+-----------------+-------------+----------+---------------+---------------+----------+---------------+------------+-----------+------------+-----------------+---------------+----------------------------------------+-----------------------+--------------------+--------------+---------------+---------------------+---------------+-------------------+----------------------------------------+--------------------+--------------+---------------+---------------------+---------------+-------------------+-----------------------+------------------------------------------------+--------------+---------------+---------------------+----------+----------+-------------------+-------------------+-------------------+--------------------------+-------------------------+\n",
      "|global_event_id|day     |month_year|year|fraction_date|actor1_code|actor1_name  |actor1_country_code|actor1_known_group_code|actor1_ethnic_code|actor1_religion1_code|actor1_religion2_code|actor1_type1_code|actor1_type2_code|actor1_type3_code|actor2_code|actor2_name  |actor2_country_code|actor2_known_group_code|actor2_ethnic_code|actor2_religion1_code|actor2_religion2_code|actor2_type1_code|actor2_type2_code|actor2_type3_code|is_root_event|event_code|event_base_code|event_root_code|quad_class|goldstein_scale|num_mentions|num_sources|num_articles|avg_tone         |actor1_geo_type|actor1_geo_fullname                     |actor1_geo_country_code|actor1_geo_adm1_code|actor1_geo_lat|actor1_geo_long|actor1_geo_feature_id|actor2_geo_type|actor2_geo_fullname|actor2_geo_country_code                 |actor2_geo_adm1_code|actor2_geo_lat|actor2_geo_long|actor2_geo_feature_id|action_geo_type|action_geo_fullname|action_geo_country_code|action_geo_adm1_code                            |action_geo_lat|action_geo_long|action_geo_feature_id|date_added|source_url|actor1_geo_centroid|actor2_geo_centroid|action_geo_centroid|processed_time            |source_file              |\n",
      "+---------------+--------+----------+----+-------------+-----------+-------------+-------------------+-----------------------+------------------+---------------------+---------------------+-----------------+-----------------+-----------------+-----------+-------------+-------------------+-----------------------+------------------+---------------------+---------------------+-----------------+-----------------+-----------------+-------------+----------+---------------+---------------+----------+---------------+------------+-----------+------------+-----------------+---------------+----------------------------------------+-----------------------+--------------------+--------------+---------------+---------------------+---------------+-------------------+----------------------------------------+--------------------+--------------+---------------+---------------------+---------------+-------------------+-----------------------+------------------------------------------------+--------------+---------------+---------------------+----------+----------+-------------------+-------------------+-------------------+--------------------------+-------------------------+\n",
      "|1259985314     |20240828|202408    |2024|2024.6521    |null       |null         |null               |null                   |null              |null                 |null                 |null             |null             |null             |LAB        |WORKER       |null               |null                   |null              |null                 |null                 |LAB              |null             |null             |1            |190       |190            |19             |4         |-10.0          |5           |1          |5           |0.77519379844962 |0              |null                                    |null                   |null                |null          |null           |null                 |null           |4                  |Gaza, Israel (general), Israel          |IS                  |null          |18315.0        |31.4167              |34.3333        |-797156            |4                      |Gaza, Israel (general), Israel                  |null          |null           |18315                |31.4167   |34.3333   |null               |null               |null               |2025-08-28 07:42:01.276797|20250828073000.export.CSV|\n",
      "|1259985315     |20240828|202408    |2024|2024.6521    |null       |null         |null               |null                   |null              |null                 |null                 |null             |null             |null             |MED        |MEDIA        |null               |null                   |null              |null                 |null                 |MED              |null             |null             |1            |180       |180            |18             |4         |-9.0           |10          |1          |10          |-6.72268907563025|0              |null                                    |null                   |null                |null          |null           |null                 |null           |0                  |null                                    |null                |null          |null           |null                 |null           |null               |0                      |null                                            |null          |null           |null                 |null      |null      |null               |null               |null               |2025-08-28 07:42:01.276797|20250828073000.export.CSV|\n",
      "|1259985316     |20240828|202408    |2024|2024.6521    |CHN        |CHINA        |CHN                |null                   |null              |null                 |null                 |null             |null             |null             |IGOSEAASN  |ASEAN        |SEA                |ASN                    |null              |null                 |null                 |IGO              |null             |null             |1            |043       |043            |04             |1         |2.8            |5           |1          |5           |5.46218487394958 |5              |Guangxi, Guangxi, China                 |CH                     |CH16                |13062.0       |24.0           |109                  |-1907151       |5                  |Guangxi, Guangxi, China                 |CH                  |null          |13062.0        |24                   |109            |-1907151           |5                      |Guangxi, Guangxi, China                         |null          |null           |13062                |24        |109       |null               |null               |null               |2025-08-28 07:42:01.276797|20250828073000.export.CSV|\n",
      "|1259985317     |20240828|202408    |2024|2024.6521    |ESP        |MADRID       |ESP                |null                   |null              |null                 |null                 |null             |null             |null             |BUS        |AIRLINE      |null               |null                   |null              |null                 |null                 |BUS              |null             |null             |1            |011       |011            |01             |1         |-0.1           |8           |1          |8           |0.0              |4              |Madrid, Madrid, Spain                   |SP                     |SP29                |25820.0       |40.4           |-3.68333             |-390625        |4                  |Madrid, Madrid, Spain                   |SP                  |null          |25820.0        |40.4                 |-3.68333       |-390625            |4                      |Barcelona, Comunidad Autonoma de Cataluna, Spain|null          |null           |25806                |41.3833   |2.18333   |null               |null               |null               |2025-08-28 07:42:01.276797|20250828073000.export.CSV|\n",
      "|1259985318     |20240828|202408    |2024|2024.6521    |ESP        |MADRID       |ESP                |null                   |null              |null                 |null                 |null             |null             |null             |BUS        |AIRLINE      |null               |null                   |null              |null                 |null                 |BUS              |null             |null             |1            |051       |051            |05             |1         |3.4            |10          |1          |10          |0.0              |4              |Madrid, Madrid, Spain                   |SP                     |SP29                |25820.0       |40.4           |-3.68333             |-390625        |4                  |Madrid, Madrid, Spain                   |SP                  |null          |25820.0        |40.4                 |-3.68333       |-390625            |4                      |Madrid, Madrid, Spain                           |null          |null           |25820                |40.4      |-3.68333  |null               |null               |null               |2025-08-28 07:42:01.276797|20250828073000.export.CSV|\n",
      "|1259985319     |20240828|202408    |2024|2024.6521    |ESP        |MADRID       |ESP                |null                   |null              |null                 |null                 |null             |null             |null             |BUS        |AIRLINE      |null               |null                   |null              |null                 |null                 |BUS              |null             |null             |1            |071       |071            |07             |2         |7.4            |10          |1          |10          |0.0              |4              |Madrid, Madrid, Spain                   |SP                     |SP29                |25820.0       |40.4           |-3.68333             |-390625        |4                  |Madrid, Madrid, Spain                   |SP                  |null          |25820.0        |40.4                 |-3.68333       |-390625            |4                      |Madrid, Madrid, Spain                           |null          |null           |25820                |40.4      |-3.68333  |null               |null               |null               |2025-08-28 07:42:01.276797|20250828073000.export.CSV|\n",
      "|1259985320     |20240828|202408    |2024|2024.6521    |ESP        |MADRID       |ESP                |null                   |null              |null                 |null                 |null             |null             |null             |BUS        |AIRLINE      |null               |null                   |null              |null                 |null                 |BUS              |null             |null             |1            |124       |124            |12             |3         |-4.0           |8           |1          |8           |0.0              |4              |Madrid, Madrid, Spain                   |SP                     |SP29                |25820.0       |40.4           |-3.68333             |-390625        |4                  |Madrid, Madrid, Spain                   |SP                  |null          |25820.0        |40.4                 |-3.68333       |-390625            |4                      |Barcelona, Comunidad Autonoma de Cataluna, Spain|null          |null           |25806                |41.3833   |2.18333   |null               |null               |null               |2025-08-28 07:42:01.276797|20250828073000.export.CSV|\n",
      "|1259985321     |20240828|202408    |2024|2024.6521    |IGOSEAASN  |ASEAN        |SEA                |ASN                    |null              |null                 |null                 |IGO              |null             |null             |CHN        |CHINA        |CHN                |null                   |null              |null                 |null                 |null             |null             |null             |1            |042       |042            |04             |1         |1.9            |5           |1          |5           |5.46218487394958 |5              |Guangxi, Guangxi, China                 |CH                     |CH16                |13062.0       |24.0           |109                  |-1907151       |5                  |Guangxi, Guangxi, China                 |CH                  |null          |13062.0        |24                   |109            |-1907151           |5                      |Guangxi, Guangxi, China                         |null          |null           |13062                |24        |109       |null               |null               |null               |2025-08-28 07:42:01.276797|20250828073000.export.CSV|\n",
      "|1259985322     |20250729|202507    |2025|2025.5726    |EDU        |STUDENT      |null               |null                   |null              |null                 |null                 |EDU              |null             |null             |null       |null         |null               |null                   |null              |null                 |null                 |null             |null             |null             |1            |191       |191            |19             |4         |-9.5           |5           |1          |5           |-1.75            |2              |Georgia, United States                  |US                     |USGA                |null          |32.9866        |-83.6487             |GA             |0                  |null                                    |null                |null          |null           |null                 |null           |null               |2                      |Georgia, United States                          |null          |null           |null                 |32.9866   |-83.6487  |null               |null               |null               |2025-08-28 07:42:01.276797|20250828073000.export.CSV|\n",
      "|1259985323     |20250729|202507    |2025|2025.5726    |MEX        |TIJUANA      |MEX                |null                   |null              |null                 |null                 |null             |null             |null             |MEXGOV     |MEXICO       |MEX                |null                   |null              |null                 |null                 |GOV              |null             |null             |0            |043       |043            |04             |1         |2.8            |1           |1          |1           |-1.88383045525902|1              |Mexico                                  |MX                     |MX                  |null          |23.0           |-102                 |MX             |3                  |Tijuana River, California, United States|US                  |null          |null           |32.5553              |-117.129       |255756             |1                      |Mexico                                          |null          |null           |null                 |23        |-102      |null               |null               |null               |2025-08-28 07:42:01.276797|20250828073000.export.CSV|\n",
      "|1259985324     |20250729|202507    |2025|2025.5726    |MEX        |TIJUANA      |MEX                |null                   |null              |null                 |null                 |null             |null             |null             |MEXGOV     |MEXICO       |MEX                |null                   |null              |null                 |null                 |GOV              |null             |null             |0            |057       |057            |05             |1         |8.0            |1           |1          |1           |-1.88383045525902|1              |Mexico                                  |MX                     |MX                  |null          |23.0           |-102                 |MX             |3                  |Tijuana River, California, United States|US                  |null          |null           |32.5553              |-117.129       |255756             |1                      |Mexico                                          |null          |null           |null                 |23        |-102      |null               |null               |null               |2025-08-28 07:42:01.276797|20250828073000.export.CSV|\n",
      "|1259985325     |20250729|202507    |2025|2025.5726    |MEX        |MEXICAN      |MEX                |null                   |null              |null                 |null                 |null             |null             |null             |USA        |UNITED STATES|USA                |null                   |null              |null                 |null                 |null             |null             |null             |0            |042       |042            |04             |1         |1.9            |1           |1          |1           |-1.88383045525902|3              |Tijuana River, California, United States|US                     |USCA                |null          |32.5553        |-117.129             |255756         |1                  |Mexico                                  |MX                  |null          |null           |23                   |-102           |MX                 |1                      |Mexico                                          |null          |null           |null                 |23        |-102      |null               |null               |null               |2025-08-28 07:42:01.276797|20250828073000.export.CSV|\n",
      "|1259985326     |20250729|202507    |2025|2025.5726    |MEX        |MEXICAN      |MEX                |null                   |null              |null                 |null                 |null             |null             |null             |USA        |UNITED STATES|USA                |null                   |null              |null                 |null                 |null             |null             |null             |0            |057       |057            |05             |1         |8.0            |1           |1          |1           |-1.88383045525902|3              |Tijuana River, California, United States|US                     |USCA                |null          |32.5553        |-117.129             |255756         |1                  |Mexico                                  |MX                  |null          |null           |23                   |-102           |MX                 |1                      |Mexico                                          |null          |null           |null                 |23        |-102      |null               |null               |null               |2025-08-28 07:42:01.276797|20250828073000.export.CSV|\n",
      "|1259985327     |20250729|202507    |2025|2025.5726    |MEXGOV     |MEXICO       |MEX                |null                   |null              |null                 |null                 |GOV              |null             |null             |MEX        |TIJUANA      |MEX                |null                   |null              |null                 |null                 |null             |null             |null             |0            |042       |042            |04             |1         |1.9            |1           |1          |1           |-1.88383045525902|3              |Tijuana River, California, United States|US                     |USCA                |null          |32.5553        |-117.129             |255756         |1                  |Mexico                                  |MX                  |null          |null           |23                   |-102           |MX                 |1                      |Mexico                                          |null          |null           |null                 |23        |-102      |null               |null               |null               |2025-08-28 07:42:01.276797|20250828073000.export.CSV|\n",
      "|1259985328     |20250729|202507    |2025|2025.5726    |MEXGOV     |MEXICO       |MEX                |null                   |null              |null                 |null                 |GOV              |null             |null             |MEX        |TIJUANA      |MEX                |null                   |null              |null                 |null                 |null             |null             |null             |0            |057       |057            |05             |1         |8.0            |1           |1          |1           |-1.88383045525902|3              |Tijuana River, California, United States|US                     |USCA                |null          |32.5553        |-117.129             |255756         |1                  |Mexico                                  |MX                  |null          |null           |23                   |-102           |MX                 |1                      |Mexico                                          |null          |null           |null                 |23        |-102      |null               |null               |null               |2025-08-28 07:42:01.276797|20250828073000.export.CSV|\n",
      "|1259985329     |20250729|202507    |2025|2025.5726    |USA        |UNITED STATES|USA                |null                   |null              |null                 |null                 |null             |null             |null             |MEX        |MEXICAN      |MEX                |null                   |null              |null                 |null                 |null             |null             |null             |0            |043       |043            |04             |1         |2.8            |1           |1          |1           |-1.88383045525902|1              |Mexico                                  |MX                     |MX                  |null          |23.0           |-102                 |MX             |3                  |Tijuana River, California, United States|US                  |null          |null           |32.5553              |-117.129       |255756             |1                      |Mexico                                          |null          |null           |null                 |23        |-102      |null               |null               |null               |2025-08-28 07:42:01.276797|20250828073000.export.CSV|\n",
      "|1259985330     |20250729|202507    |2025|2025.5726    |USA        |UNITED STATES|USA                |null                   |null              |null                 |null                 |null             |null             |null             |MEX        |MEXICAN      |MEX                |null                   |null              |null                 |null                 |null             |null             |null             |0            |057       |057            |05             |1         |8.0            |1           |1          |1           |-1.88383045525902|1              |Mexico                                  |MX                     |MX                  |null          |23.0           |-102                 |MX             |3                  |Tijuana River, California, United States|US                  |null          |null           |32.5553              |-117.129       |255756             |1                      |Mexico                                          |null          |null           |null                 |23        |-102      |null               |null               |null               |2025-08-28 07:42:01.276797|20250828073000.export.CSV|\n",
      "|1259985331     |20250821|202508    |2025|2025.6329    |GOV        |PRESIDENT    |null               |null                   |null              |null                 |null                 |GOV              |null             |null             |AFR        |AFRICA       |AFR                |null                   |null              |null                 |null                 |null             |null             |null             |0            |130       |130            |13             |3         |-4.4           |1           |1          |1           |-13.3162612035851|4              |Tigray, Tigray, Ethiopia                |ET                     |ET53                |149298.0      |13.5           |39.5                 |-620571        |4                  |Pretoria, Gauteng, South Africa         |SF                  |null          |77346.0        |-25.7069             |28.2294        |-1273769           |4                      |Tigray, Tigray, Ethiopia                        |null          |null           |149298               |13.5      |39.5      |null               |null               |null               |2025-08-28 07:42:01.276797|20250828073000.export.CSV|\n",
      "|1259985332     |20250821|202508    |2025|2025.6329    |GOV        |PRESIDENT    |null               |null                   |null              |null                 |null                 |GOV              |null             |null             |AFR        |AFRICA       |AFR                |null                   |null              |null                 |null                 |null             |null             |null             |0            |130       |130            |13             |3         |-4.4           |1           |1          |1           |-13.3162612035851|4              |Tigray, Tigray, Ethiopia                |ET                     |ET53                |149298.0      |13.5           |39.5                 |-620571        |4                  |Tigray, Tigray, Ethiopia                |ET                  |null          |149298.0       |13.5                 |39.5           |-620571            |4                      |Tigray, Tigray, Ethiopia                        |null          |null           |149298               |13.5      |39.5      |null               |null               |null               |2025-08-28 07:42:01.276797|20250828073000.export.CSV|\n",
      "|1259985333     |20250821|202508    |2025|2025.6329    |GOV        |PRESIDENT    |null               |null                   |null              |null                 |null                 |GOV              |null             |null             |AFR        |AFRICA       |AFR                |null                   |null              |null                 |null                 |null             |null             |null             |0            |203       |203            |20             |4         |-10.0          |1           |1          |1           |-13.3162612035851|4              |Tigray, Tigray, Ethiopia                |ET                     |ET53                |149298.0      |13.5           |39.5                 |-620571        |4                  |Pretoria, Gauteng, South Africa         |SF                  |null          |77346.0        |-25.7069             |28.2294        |-1273769           |4                      |Pretoria, Gauteng, South Africa                 |null          |null           |77346                |-25.7069  |28.2294   |null               |null               |null               |2025-08-28 07:42:01.276797|20250828073000.export.CSV|\n",
      "+---------------+--------+----------+----+-------------+-----------+-------------+-------------------+-----------------------+------------------+---------------------+---------------------+-----------------+-----------------+-----------------+-----------+-------------+-------------------+-----------------------+------------------+---------------------+---------------------+-----------------+-----------------+-----------------+-------------+----------+---------------+---------------+----------+---------------+------------+-----------+------------+-----------------+---------------+----------------------------------------+-----------------------+--------------------+--------------+---------------+---------------------+---------------+-------------------+----------------------------------------+--------------------+--------------+---------------+---------------------+---------------+-------------------+-----------------------+------------------------------------------------+--------------+---------------+---------------------+----------+----------+-------------------+-------------------+-------------------+--------------------------+-------------------------+\n",
      "only showing top 20 rows\n",
      "\n"
     ]
    },
    {
     "name": "stderr",
     "output_type": "stream",
     "text": [
      "25/08/28 08:05:16 ERROR StandaloneSchedulerBackend: Application has been killed. Reason: Master removed our application: KILLED\n",
      "25/08/28 08:05:16 ERROR Inbox: Ignoring error\n",
      "org.apache.spark.SparkException: Exiting due to error from cluster scheduler: Master removed our application: KILLED\n",
      "\tat org.apache.spark.errors.SparkCoreErrors$.clusterSchedulerError(SparkCoreErrors.scala:291)\n",
      "\tat org.apache.spark.scheduler.TaskSchedulerImpl.error(TaskSchedulerImpl.scala:978)\n",
      "\tat org.apache.spark.scheduler.cluster.StandaloneSchedulerBackend.dead(StandaloneSchedulerBackend.scala:165)\n",
      "\tat org.apache.spark.deploy.client.StandaloneAppClient$ClientEndpoint.markDead(StandaloneAppClient.scala:263)\n",
      "\tat org.apache.spark.deploy.client.StandaloneAppClient$ClientEndpoint$$anonfun$receive$1.applyOrElse(StandaloneAppClient.scala:170)\n",
      "\tat org.apache.spark.rpc.netty.Inbox.$anonfun$process$1(Inbox.scala:115)\n",
      "\tat org.apache.spark.rpc.netty.Inbox.safelyCall(Inbox.scala:213)\n",
      "\tat org.apache.spark.rpc.netty.Inbox.process(Inbox.scala:100)\n",
      "\tat org.apache.spark.rpc.netty.MessageLoop.org$apache$spark$rpc$netty$MessageLoop$$receiveLoop(MessageLoop.scala:75)\n",
      "\tat org.apache.spark.rpc.netty.MessageLoop$$anon$1.run(MessageLoop.scala:41)\n",
      "\tat java.base/java.util.concurrent.ThreadPoolExecutor.runWorker(ThreadPoolExecutor.java:1136)\n",
      "\tat java.base/java.util.concurrent.ThreadPoolExecutor$Worker.run(ThreadPoolExecutor.java:635)\n",
      "\tat java.base/java.lang.Thread.run(Thread.java:840)\n"
     ]
    }
   ],
   "source": [
    "# 샘플 데이터 확인\n",
    "print(\"🔍 샘플 데이터:\")\n",
    "df.show(20, truncate=False)"
   ]
  },
  {
   "cell_type": "code",
   "execution_count": 7,
   "metadata": {},
   "outputs": [
    {
     "name": "stdout",
     "output_type": "stream",
     "text": [
      "root\n",
      " |-- global_event_id: long (nullable = true)\n",
      " |-- day: integer (nullable = true)\n",
      " |-- month_year: integer (nullable = true)\n",
      " |-- year: integer (nullable = true)\n",
      " |-- fraction_date: double (nullable = true)\n",
      " |-- actor1_code: string (nullable = true)\n",
      " |-- actor1_name: string (nullable = true)\n",
      " |-- actor1_country_code: string (nullable = true)\n",
      " |-- actor1_known_group_code: string (nullable = true)\n",
      " |-- actor1_ethnic_code: string (nullable = true)\n",
      " |-- actor1_religion1_code: string (nullable = true)\n",
      " |-- actor1_religion2_code: string (nullable = true)\n",
      " |-- actor1_type1_code: string (nullable = true)\n",
      " |-- actor1_type2_code: string (nullable = true)\n",
      " |-- actor1_type3_code: string (nullable = true)\n",
      " |-- actor2_code: string (nullable = true)\n",
      " |-- actor2_name: string (nullable = true)\n",
      " |-- actor2_country_code: string (nullable = true)\n",
      " |-- actor2_known_group_code: string (nullable = true)\n",
      " |-- actor2_ethnic_code: string (nullable = true)\n",
      " |-- actor2_religion1_code: string (nullable = true)\n",
      " |-- actor2_religion2_code: string (nullable = true)\n",
      " |-- actor2_type1_code: string (nullable = true)\n",
      " |-- actor2_type2_code: string (nullable = true)\n",
      " |-- actor2_type3_code: string (nullable = true)\n",
      " |-- is_root_event: integer (nullable = true)\n",
      " |-- event_code: string (nullable = true)\n",
      " |-- event_base_code: string (nullable = true)\n",
      " |-- event_root_code: string (nullable = true)\n",
      " |-- quad_class: integer (nullable = true)\n",
      " |-- goldstein_scale: double (nullable = true)\n",
      " |-- num_mentions: integer (nullable = true)\n",
      " |-- num_sources: integer (nullable = true)\n",
      " |-- num_articles: integer (nullable = true)\n",
      " |-- avg_tone: double (nullable = true)\n",
      " |-- actor1_geo_type: string (nullable = true)\n",
      " |-- actor1_geo_fullname: string (nullable = true)\n",
      " |-- actor1_geo_country_code: string (nullable = true)\n",
      " |-- actor1_geo_adm1_code: string (nullable = true)\n",
      " |-- actor1_geo_lat: double (nullable = true)\n",
      " |-- actor1_geo_long: double (nullable = true)\n",
      " |-- actor1_geo_feature_id: string (nullable = true)\n",
      " |-- actor2_geo_type: string (nullable = true)\n",
      " |-- actor2_geo_fullname: string (nullable = true)\n",
      " |-- actor2_geo_country_code: string (nullable = true)\n",
      " |-- actor2_geo_adm1_code: string (nullable = true)\n",
      " |-- actor2_geo_lat: double (nullable = true)\n",
      " |-- actor2_geo_long: double (nullable = true)\n",
      " |-- actor2_geo_feature_id: string (nullable = true)\n",
      " |-- action_geo_type: string (nullable = true)\n",
      " |-- action_geo_fullname: string (nullable = true)\n",
      " |-- action_geo_country_code: string (nullable = true)\n",
      " |-- action_geo_adm1_code: string (nullable = true)\n",
      " |-- action_geo_lat: double (nullable = true)\n",
      " |-- action_geo_long: double (nullable = true)\n",
      " |-- action_geo_feature_id: string (nullable = true)\n",
      " |-- date_added: string (nullable = true)\n",
      " |-- source_url: string (nullable = true)\n",
      " |-- actor1_geo_centroid: string (nullable = true)\n",
      " |-- actor2_geo_centroid: string (nullable = true)\n",
      " |-- action_geo_centroid: string (nullable = true)\n",
      " |-- processed_time: timestamp (nullable = true)\n",
      " |-- source_file: string (nullable = true)\n",
      "\n"
     ]
    }
   ],
   "source": [
    "# 스키마 확인\n",
    "df.printSchema()"
   ]
  },
  {
   "cell_type": "code",
   "execution_count": 8,
   "metadata": {},
   "outputs": [
    {
     "name": "stdout",
     "output_type": "stream",
     "text": [
      "+-------------------+-----+\n",
      "|actor1_country_code|count|\n",
      "+-------------------+-----+\n",
      "|               null|  673|\n",
      "|                USA|  363|\n",
      "|                ISR|   54|\n",
      "|                RUS|   30|\n",
      "|                AUS|   29|\n",
      "|                BRA|   27|\n",
      "|                PSE|   23|\n",
      "|                FRA|   21|\n",
      "|                CHN|   21|\n",
      "|                CAN|   20|\n",
      "+-------------------+-----+\n",
      "only showing top 10 rows\n",
      "\n"
     ]
    }
   ],
   "source": [
    "# 간단한 통계\n",
    "df.select(\"actor1_country_code\").groupBy(\"actor1_country_code\").count().orderBy(F.desc(\"count\")).show(10)"
   ]
  },
  {
   "cell_type": "code",
   "execution_count": null,
   "metadata": {},
   "outputs": [],
   "source": [
    "spark.stop()"
   ]
  }
 ],
 "metadata": {
  "kernelspec": {
   "display_name": "Python 3 (ipykernel)",
   "language": "python",
   "name": "python3"
  },
  "language_info": {
   "codemirror_mode": {
    "name": "ipython",
    "version": 3
   },
   "file_extension": ".py",
   "mimetype": "text/x-python",
   "name": "python",
   "nbconvert_exporter": "python",
   "pygments_lexer": "ipython3",
   "version": "3.10.18"
  }
 },
 "nbformat": 4,
 "nbformat_minor": 4
}
