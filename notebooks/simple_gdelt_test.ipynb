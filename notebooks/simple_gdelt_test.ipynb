{
 "cells": [
  {
   "cell_type": "markdown",
   "metadata": {},
   "source": [
    "# 간단한 GDELT 테스트 노트북\n",
    "\n",
    "Silver 테이블 불러와서 컬럼들 확인하는 용도"
   ]
  },
  {
   "cell_type": "code",
   "execution_count": 1,
   "metadata": {},
   "outputs": [
    {
     "name": "stdout",
     "output_type": "stream",
     "text": [
      ":: loading settings :: url = jar:file:/usr/local/lib/python3.10/site-packages/pyspark/jars/ivy-2.5.1.jar!/org/apache/ivy/core/settings/ivysettings.xml\n"
     ]
    },
    {
     "name": "stderr",
     "output_type": "stream",
     "text": [
      "Ivy Default Cache set to: /root/.ivy2/cache\n",
      "The jars for the packages stored in: /root/.ivy2/jars\n",
      "io.delta#delta-core_2.12 added as a dependency\n",
      "org.apache.hadoop#hadoop-aws added as a dependency\n",
      "com.amazonaws#aws-java-sdk-bundle added as a dependency\n",
      "org.apache.spark#spark-sql-kafka-0-10_2.12 added as a dependency\n",
      "org.postgresql#postgresql added as a dependency\n",
      ":: resolving dependencies :: org.apache.spark#spark-submit-parent-86c087e6-48e5-4c76-9d7d-f89d8762b254;1.0\n",
      "\tconfs: [default]\n",
      "\tfound io.delta#delta-core_2.12;2.4.0 in central\n",
      "\tfound io.delta#delta-storage;2.4.0 in central\n",
      "\tfound org.antlr#antlr4-runtime;4.9.3 in central\n",
      "\tfound org.apache.hadoop#hadoop-aws;3.3.4 in central\n",
      "\tfound org.wildfly.openssl#wildfly-openssl;1.0.7.Final in central\n",
      "\tfound com.amazonaws#aws-java-sdk-bundle;1.12.367 in central\n",
      "\tfound org.apache.spark#spark-sql-kafka-0-10_2.12;3.4.3 in central\n",
      "\tfound org.apache.spark#spark-token-provider-kafka-0-10_2.12;3.4.3 in central\n",
      "\tfound org.apache.kafka#kafka-clients;3.3.2 in central\n",
      "\tfound org.lz4#lz4-java;1.8.0 in central\n",
      "\tfound org.xerial.snappy#snappy-java;1.1.10.5 in central\n",
      "\tfound org.slf4j#slf4j-api;2.0.6 in central\n",
      "\tfound org.apache.hadoop#hadoop-client-runtime;3.3.4 in central\n",
      "\tfound org.apache.hadoop#hadoop-client-api;3.3.4 in central\n",
      "\tfound commons-logging#commons-logging;1.1.3 in central\n",
      "\tfound com.google.code.findbugs#jsr305;3.0.0 in central\n",
      "\tfound org.apache.commons#commons-pool2;2.11.1 in central\n",
      "\tfound org.postgresql#postgresql;42.7.3 in central\n",
      "\tfound org.checkerframework#checker-qual;3.42.0 in central\n",
      "downloading https://repo1.maven.org/maven2/io/delta/delta-core_2.12/2.4.0/delta-core_2.12-2.4.0.jar ...\n",
      "\t[SUCCESSFUL ] io.delta#delta-core_2.12;2.4.0!delta-core_2.12.jar (1045ms)\n",
      "downloading https://repo1.maven.org/maven2/org/apache/hadoop/hadoop-aws/3.3.4/hadoop-aws-3.3.4.jar ...\n",
      "\t[SUCCESSFUL ] org.apache.hadoop#hadoop-aws;3.3.4!hadoop-aws.jar (366ms)\n",
      "downloading https://repo1.maven.org/maven2/com/amazonaws/aws-java-sdk-bundle/1.12.367/aws-java-sdk-bundle-1.12.367.jar ...\n",
      "\t[SUCCESSFUL ] com.amazonaws#aws-java-sdk-bundle;1.12.367!aws-java-sdk-bundle.jar (11516ms)\n",
      "downloading https://repo1.maven.org/maven2/org/apache/spark/spark-sql-kafka-0-10_2.12/3.4.3/spark-sql-kafka-0-10_2.12-3.4.3.jar ...\n",
      "\t[SUCCESSFUL ] org.apache.spark#spark-sql-kafka-0-10_2.12;3.4.3!spark-sql-kafka-0-10_2.12.jar (333ms)\n",
      "downloading https://repo1.maven.org/maven2/org/postgresql/postgresql/42.7.3/postgresql-42.7.3.jar ...\n",
      "\t[SUCCESSFUL ] org.postgresql#postgresql;42.7.3!postgresql.jar (362ms)\n",
      "downloading https://repo1.maven.org/maven2/io/delta/delta-storage/2.4.0/delta-storage-2.4.0.jar ...\n",
      "\t[SUCCESSFUL ] io.delta#delta-storage;2.4.0!delta-storage.jar (325ms)\n",
      "downloading https://repo1.maven.org/maven2/org/antlr/antlr4-runtime/4.9.3/antlr4-runtime-4.9.3.jar ...\n",
      "\t[SUCCESSFUL ] org.antlr#antlr4-runtime;4.9.3!antlr4-runtime.jar (335ms)\n",
      "downloading https://repo1.maven.org/maven2/org/wildfly/openssl/wildfly-openssl/1.0.7.Final/wildfly-openssl-1.0.7.Final.jar ...\n",
      "\t[SUCCESSFUL ] org.wildfly.openssl#wildfly-openssl;1.0.7.Final!wildfly-openssl.jar (332ms)\n",
      "downloading https://repo1.maven.org/maven2/org/apache/spark/spark-token-provider-kafka-0-10_2.12/3.4.3/spark-token-provider-kafka-0-10_2.12-3.4.3.jar ...\n",
      "\t[SUCCESSFUL ] org.apache.spark#spark-token-provider-kafka-0-10_2.12;3.4.3!spark-token-provider-kafka-0-10_2.12.jar (325ms)\n",
      "downloading https://repo1.maven.org/maven2/org/apache/kafka/kafka-clients/3.3.2/kafka-clients-3.3.2.jar ...\n",
      "\t[SUCCESSFUL ] org.apache.kafka#kafka-clients;3.3.2!kafka-clients.jar (538ms)\n",
      "downloading https://repo1.maven.org/maven2/com/google/code/findbugs/jsr305/3.0.0/jsr305-3.0.0.jar ...\n",
      "\t[SUCCESSFUL ] com.google.code.findbugs#jsr305;3.0.0!jsr305.jar (319ms)\n",
      "downloading https://repo1.maven.org/maven2/org/apache/commons/commons-pool2/2.11.1/commons-pool2-2.11.1.jar ...\n",
      "\t[SUCCESSFUL ] org.apache.commons#commons-pool2;2.11.1!commons-pool2.jar (338ms)\n",
      "downloading https://repo1.maven.org/maven2/org/apache/hadoop/hadoop-client-runtime/3.3.4/hadoop-client-runtime-3.3.4.jar ...\n",
      "\t[SUCCESSFUL ] org.apache.hadoop#hadoop-client-runtime;3.3.4!hadoop-client-runtime.jar (1340ms)\n",
      "downloading https://repo1.maven.org/maven2/org/lz4/lz4-java/1.8.0/lz4-java-1.8.0.jar ...\n",
      "\t[SUCCESSFUL ] org.lz4#lz4-java;1.8.0!lz4-java.jar (369ms)\n",
      "downloading https://repo1.maven.org/maven2/org/xerial/snappy/snappy-java/1.1.10.5/snappy-java-1.1.10.5.jar ...\n",
      "\t[SUCCESSFUL ] org.xerial.snappy#snappy-java;1.1.10.5!snappy-java.jar(bundle) (449ms)\n",
      "downloading https://repo1.maven.org/maven2/org/slf4j/slf4j-api/2.0.6/slf4j-api-2.0.6.jar ...\n",
      "\t[SUCCESSFUL ] org.slf4j#slf4j-api;2.0.6!slf4j-api.jar (339ms)\n",
      "downloading https://repo1.maven.org/maven2/org/apache/hadoop/hadoop-client-api/3.3.4/hadoop-client-api-3.3.4.jar ...\n",
      "\t[SUCCESSFUL ] org.apache.hadoop#hadoop-client-api;3.3.4!hadoop-client-api.jar (994ms)\n",
      "downloading https://repo1.maven.org/maven2/commons-logging/commons-logging/1.1.3/commons-logging-1.1.3.jar ...\n",
      "\t[SUCCESSFUL ] commons-logging#commons-logging;1.1.3!commons-logging.jar (319ms)\n",
      "downloading https://repo1.maven.org/maven2/org/checkerframework/checker-qual/3.42.0/checker-qual-3.42.0.jar ...\n",
      "\t[SUCCESSFUL ] org.checkerframework#checker-qual;3.42.0!checker-qual.jar (324ms)\n",
      ":: resolution report :: resolve 19169ms :: artifacts dl 20277ms\n",
      "\t:: modules in use:\n",
      "\tcom.amazonaws#aws-java-sdk-bundle;1.12.367 from central in [default]\n",
      "\tcom.google.code.findbugs#jsr305;3.0.0 from central in [default]\n",
      "\tcommons-logging#commons-logging;1.1.3 from central in [default]\n",
      "\tio.delta#delta-core_2.12;2.4.0 from central in [default]\n",
      "\tio.delta#delta-storage;2.4.0 from central in [default]\n",
      "\torg.antlr#antlr4-runtime;4.9.3 from central in [default]\n",
      "\torg.apache.commons#commons-pool2;2.11.1 from central in [default]\n",
      "\torg.apache.hadoop#hadoop-aws;3.3.4 from central in [default]\n",
      "\torg.apache.hadoop#hadoop-client-api;3.3.4 from central in [default]\n",
      "\torg.apache.hadoop#hadoop-client-runtime;3.3.4 from central in [default]\n",
      "\torg.apache.kafka#kafka-clients;3.3.2 from central in [default]\n",
      "\torg.apache.spark#spark-sql-kafka-0-10_2.12;3.4.3 from central in [default]\n",
      "\torg.apache.spark#spark-token-provider-kafka-0-10_2.12;3.4.3 from central in [default]\n",
      "\torg.checkerframework#checker-qual;3.42.0 from central in [default]\n",
      "\torg.lz4#lz4-java;1.8.0 from central in [default]\n",
      "\torg.postgresql#postgresql;42.7.3 from central in [default]\n",
      "\torg.slf4j#slf4j-api;2.0.6 from central in [default]\n",
      "\torg.wildfly.openssl#wildfly-openssl;1.0.7.Final from central in [default]\n",
      "\torg.xerial.snappy#snappy-java;1.1.10.5 from central in [default]\n",
      "\t:: evicted modules:\n",
      "\tcom.amazonaws#aws-java-sdk-bundle;1.12.262 by [com.amazonaws#aws-java-sdk-bundle;1.12.367] in [default]\n",
      "\t---------------------------------------------------------------------\n",
      "\t|                  |            modules            ||   artifacts   |\n",
      "\t|       conf       | number| search|dwnlded|evicted|| number|dwnlded|\n",
      "\t---------------------------------------------------------------------\n",
      "\t|      default     |   20  |   19  |   19  |   1   ||   19  |   19  |\n",
      "\t---------------------------------------------------------------------\n",
      ":: retrieving :: org.apache.spark#spark-submit-parent-86c087e6-48e5-4c76-9d7d-f89d8762b254\n",
      "\tconfs: [default]\n",
      "\t19 artifacts copied, 0 already retrieved (367443kB/336ms)\n",
      "25/08/27 02:54:41 WARN NativeCodeLoader: Unable to load native-hadoop library for your platform... using builtin-java classes where applicable\n",
      "Setting default log level to \"WARN\".\n",
      "To adjust logging level use sc.setLogLevel(newLevel). For SparkR, use setLogLevel(newLevel).\n"
     ]
    },
    {
     "name": "stdout",
     "output_type": "stream",
     "text": [
      "✅ Spark 세션 생성 완료\n"
     ]
    }
   ],
   "source": [
    "import sys\n",
    "sys.path.append('/app')\n",
    "\n",
    "from src.utils.spark_builder import get_spark_session\n",
    "from pyspark.sql import functions as F\n",
    "\n",
    "# Spark 세션 생성\n",
    "spark = get_spark_session(\"GDELT_Test\", \"spark://spark-master:7077\")\n",
    "print(\"✅ Spark 세션 생성 완료\")"
   ]
  },
  {
   "cell_type": "code",
   "execution_count": 2,
   "metadata": {},
   "outputs": [
    {
     "name": "stderr",
     "output_type": "stream",
     "text": [
      "25/08/27 02:55:03 WARN MetricsConfig: Cannot locate configuration: tried hadoop-metrics2-s3a-file-system.properties,hadoop-metrics2.properties\n",
      "25/08/27 02:55:06 WARN package: Truncated the string representation of a plan since it was too large. This behavior can be adjusted by setting 'spark.sql.debug.maxToStringFields'.\n",
      "[Stage 3:==============>                                         (13 + 10) / 50]\r"
     ]
    },
    {
     "name": "stdout",
     "output_type": "stream",
     "text": [
      "📊 레코드 수: 1686\n",
      "📋 컬럼 수: 63\n"
     ]
    },
    {
     "name": "stderr",
     "output_type": "stream",
     "text": [
      "                                                                                \r"
     ]
    }
   ],
   "source": [
    "# Raw Table 읽기\n",
    "df = spark.read.format(\"delta\").load(\"s3a://raw/gdelt_events\")\n",
    "\n",
    "print(f\"📊 레코드 수: {df.count()}\")\n",
    "print(f\"📋 컬럼 수: {len(df.columns)}\")"
   ]
  },
  {
   "cell_type": "code",
   "execution_count": 4,
   "metadata": {},
   "outputs": [
    {
     "name": "stdout",
     "output_type": "stream",
     "text": [
      "📝 전체 컬럼 목록:\n",
      " 1. global_event_id\n",
      " 2. day\n",
      " 3. month_year\n",
      " 4. year\n",
      " 5. fraction_date\n",
      " 6. actor1_code\n",
      " 7. actor1_name\n",
      " 8. actor1_country_code\n",
      " 9. actor1_known_group_code\n",
      "10. actor1_ethnic_code\n",
      "11. actor1_religion1_code\n",
      "12. actor1_religion2_code\n",
      "13. actor1_type1_code\n",
      "14. actor1_type2_code\n",
      "15. actor1_type3_code\n",
      "16. actor2_code\n",
      "17. actor2_name\n",
      "18. actor2_country_code\n",
      "19. actor2_known_group_code\n",
      "20. actor2_ethnic_code\n",
      "21. actor2_religion1_code\n",
      "22. actor2_religion2_code\n",
      "23. actor2_type1_code\n",
      "24. actor2_type2_code\n",
      "25. actor2_type3_code\n",
      "26. is_root_event\n",
      "27. event_code\n",
      "28. event_base_code\n",
      "29. event_root_code\n",
      "30. quad_class\n",
      "31. goldstein_scale\n",
      "32. num_mentions\n",
      "33. num_sources\n",
      "34. num_articles\n",
      "35. avg_tone\n",
      "36. actor1_geo_type\n",
      "37. actor1_geo_fullname\n",
      "38. actor1_geo_country_code\n",
      "39. actor1_geo_adm1_code\n",
      "40. actor1_geo_lat\n",
      "41. actor1_geo_long\n",
      "42. actor1_geo_feature_id\n",
      "43. actor2_geo_type\n",
      "44. actor2_geo_fullname\n",
      "45. actor2_geo_country_code\n",
      "46. actor2_geo_adm1_code\n",
      "47. actor2_geo_lat\n",
      "48. actor2_geo_long\n",
      "49. actor2_geo_feature_id\n",
      "50. action_geo_type\n",
      "51. action_geo_fullname\n",
      "52. action_geo_country_code\n",
      "53. action_geo_adm1_code\n",
      "54. action_geo_lat\n",
      "55. action_geo_long\n",
      "56. action_geo_feature_id\n",
      "57. date_added\n",
      "58. source_url\n",
      "59. actor1_geo_centroid\n",
      "60. actor2_geo_centroid\n",
      "61. action_geo_centroid\n",
      "62. processed_time\n",
      "63. source_file\n"
     ]
    }
   ],
   "source": [
    "# 전체 컬럼명 확인\n",
    "print(\"📝 전체 컬럼 목록:\")\n",
    "for i, col in enumerate(df.columns, 1):\n",
    "    print(f\"{i:2d}. {col}\")"
   ]
  },
  {
   "cell_type": "code",
   "execution_count": 5,
   "metadata": {},
   "outputs": [
    {
     "name": "stdout",
     "output_type": "stream",
     "text": [
      "🔍 샘플 데이터:\n",
      "+---------------+--------+----------+----+-------------+-----------+----------------+-------------------+-----------------------+------------------+---------------------+---------------------+-----------------+-----------------+-----------------+-----------+----------------+-------------------+-----------------------+------------------+---------------------+---------------------+-----------------+-----------------+-----------------+-------------+----------+---------------+---------------+----------+---------------+------------+-----------+------------+-----------------+---------------+------------------------------------+-----------------------+--------------------+--------------+---------------+---------------------+---------------+-------------------+--------------------------------------------+--------------------+--------------+---------------+---------------------+---------------+-------------------+-----------------------+--------------------------------------------+--------------+---------------+---------------------+----------+----------+-------------------+-------------------+-------------------+--------------------------+-------------------------+\n",
      "|global_event_id|day     |month_year|year|fraction_date|actor1_code|actor1_name     |actor1_country_code|actor1_known_group_code|actor1_ethnic_code|actor1_religion1_code|actor1_religion2_code|actor1_type1_code|actor1_type2_code|actor1_type3_code|actor2_code|actor2_name     |actor2_country_code|actor2_known_group_code|actor2_ethnic_code|actor2_religion1_code|actor2_religion2_code|actor2_type1_code|actor2_type2_code|actor2_type3_code|is_root_event|event_code|event_base_code|event_root_code|quad_class|goldstein_scale|num_mentions|num_sources|num_articles|avg_tone         |actor1_geo_type|actor1_geo_fullname                 |actor1_geo_country_code|actor1_geo_adm1_code|actor1_geo_lat|actor1_geo_long|actor1_geo_feature_id|actor2_geo_type|actor2_geo_fullname|actor2_geo_country_code                     |actor2_geo_adm1_code|actor2_geo_lat|actor2_geo_long|actor2_geo_feature_id|action_geo_type|action_geo_fullname|action_geo_country_code|action_geo_adm1_code                        |action_geo_lat|action_geo_long|action_geo_feature_id|date_added|source_url|actor1_geo_centroid|actor2_geo_centroid|action_geo_centroid|processed_time            |source_file              |\n",
      "+---------------+--------+----------+----+-------------+-----------+----------------+-------------------+-----------------------+------------------+---------------------+---------------------+-----------------+-----------------+-----------------+-----------+----------------+-------------------+-----------------------+------------------+---------------------+---------------------+-----------------+-----------------+-----------------+-------------+----------+---------------+---------------+----------+---------------+------------+-----------+------------+-----------------+---------------+------------------------------------+-----------------------+--------------------+--------------+---------------+---------------------+---------------+-------------------+--------------------------------------------+--------------------+--------------+---------------+---------------------+---------------+-------------------+-----------------------+--------------------------------------------+--------------+---------------+---------------------+----------+----------+-------------------+-------------------+-------------------+--------------------------+-------------------------+\n",
      "|1259750729     |20240827|202408    |2024|2024.6493    |null       |null            |null               |null                   |null              |null                 |null                 |null             |null             |null             |CHN        |CHINA           |CHN                |null                   |null              |null                 |null                 |null             |null             |null             |1            |036       |036            |03             |1         |4.0            |10          |1          |10          |0.44444444444444 |0              |null                                |null                   |null                |null          |null           |null                 |null           |4                  |Hengqin, Guangdong, China                   |CH                  |null          |13031.0        |22.1154              |113.543        |10365945           |4                      |Hengqin, Guangdong, China                   |null          |null           |13031                |22.1154   |113.543   |null               |null               |null               |2025-08-27 02:53:11.905062|20250827030000.export.CSV|\n",
      "|1259750730     |20240827|202408    |2024|2024.6493    |null       |null            |null               |null                   |null              |null                 |null                 |null             |null             |null             |COP        |POLICE          |null               |null                   |null              |null                 |null                 |COP              |null             |null             |0            |173       |173            |17             |4         |-5.0           |12          |1          |6           |-11.3223140495868|0              |null                                |null                   |null                |null          |null           |null                 |null           |3                  |Stanislaus County, California, United States|US                  |null          |null           |37.5499              |-121.002       |277314             |3                      |Stanislaus County, California, United States|null          |null           |null                 |37.5499   |-121.002  |null               |null               |null               |2025-08-27 02:53:11.905062|20250827030000.export.CSV|\n",
      "|1259750731     |20240827|202408    |2024|2024.6493    |null       |null            |null               |null                   |null              |null                 |null                 |null             |null             |null             |USA        |UNITED STATES   |USA                |null                   |null              |null                 |null                 |null             |null             |null             |1            |020       |020            |02             |1         |3.0            |2           |1          |2           |-0.58139534883721|0              |null                                |null                   |null                |null          |null           |null                 |null           |3                  |Fort Collins, Colorado, United States       |US                  |null          |null           |40.5853              |-105.084       |204673             |3                      |Fort Collins, Colorado, United States       |null          |null           |null                 |40.5853   |-105.084  |null               |null               |null               |2025-08-27 02:53:11.905062|20250827030000.export.CSV|\n",
      "|1259750732     |20240827|202408    |2024|2024.6493    |AUT        |VIENNA          |AUT                |null                   |null              |null                 |null                 |null             |null             |null             |DEU        |GERMAN          |DEU                |null                   |null              |null                 |null                 |null             |null             |null             |1            |1123      |112            |11             |3         |-2.0           |8           |1          |8           |-7.0             |4              |Vienna, Wien, Austria               |AU                     |AU09                |5672.0        |48.2           |16.3667              |-1995499       |4                  |Berlin, Berlin, Germany                     |GM                  |null          |16538.0        |52.5167              |13.4           |-1746443           |4                      |Berlin, Berlin, Germany                     |null          |null           |16538                |52.5167   |13.4      |null               |null               |null               |2025-08-27 02:53:11.905062|20250827030000.export.CSV|\n",
      "|1259750733     |20240827|202408    |2024|2024.6493    |AUT        |VIENNA          |AUT                |null                   |null              |null                 |null                 |null             |null             |null             |DEU        |GERMANY         |DEU                |null                   |null              |null                 |null                 |null             |null             |null             |1            |1123      |112            |11             |3         |-2.0           |2           |1          |2           |-7.0             |4              |Vienna, Wien, Austria               |AU                     |AU09                |5672.0        |48.2           |16.3667              |-1995499       |4                  |Berlin, Berlin, Germany                     |GM                  |null          |16538.0        |52.5167              |13.4           |-1746443           |4                      |Vienna, Wien, Austria                       |null          |null           |5672                 |48.2      |16.3667   |null               |null               |null               |2025-08-27 02:53:11.905062|20250827030000.export.CSV|\n",
      "|1259750734     |20240827|202408    |2024|2024.6493    |CHN        |CHINA           |CHN                |null                   |null              |null                 |null                 |null             |null             |null             |null       |null            |null               |null                   |null              |null                 |null                 |null             |null             |null             |1            |036       |036            |03             |1         |4.0            |10          |1          |10          |0.44444444444444 |4              |Hengqin, Guangdong, China           |CH                     |CH30                |13031.0       |22.1154        |113.543              |10365945       |0                  |null                                        |null                |null          |null           |null                 |null           |null               |4                      |Hengqin, Guangdong, China                   |null          |null           |13031                |22.1154   |113.543   |null               |null               |null               |2025-08-27 02:53:11.905062|20250827030000.export.CSV|\n",
      "|1259750735     |20240827|202408    |2024|2024.6493    |GOV        |ATTORNEY GENERAL|null               |null                   |null              |null                 |null                 |GOV              |null             |null             |null       |null            |null               |null                   |null              |null                 |null                 |null             |null             |null             |1            |026       |026            |02             |1         |4.0            |6           |1          |6           |-7.09534368070953|1              |China                               |CH                     |CH                  |null          |35.0           |105                  |CH             |0                  |null                                        |null                |null          |null           |null                 |null           |null               |2                      |Arizona, United States                      |null          |null           |null                 |33.7712   |-111.388  |null               |null               |null               |2025-08-27 02:53:11.905062|20250827030000.export.CSV|\n",
      "|1259750736     |20240827|202408    |2024|2024.6493    |USA        |UNITED STATES   |USA                |null                   |null              |null                 |null                 |null             |null             |null             |COP        |POLICE          |null               |null                   |null              |null                 |null                 |COP              |null             |null             |0            |173       |173            |17             |4         |-5.0           |8           |1          |4           |-11.3223140495868|3              |Modesto, California, United States  |US                     |USCA                |null          |37.6391        |-120.997             |277609         |3                  |Modesto, California, United States          |US                  |null          |null           |37.6391              |-120.997       |277609             |3                      |Modesto, California, United States          |null          |null           |CA099                |37.6391   |-120.997  |null               |null               |null               |2025-08-27 02:53:11.905062|20250827030000.export.CSV|\n",
      "|1259750737     |20240827|202408    |2024|2024.6493    |USA        |WASHINGTON      |USA                |null                   |null              |null                 |null                 |null             |null             |null             |GBR        |LONDON          |GBR                |null                   |null              |null                 |null                 |null             |null             |null             |1            |017       |017            |01             |1         |0.0            |2           |1          |2           |-0.48            |4              |Beijing, Beijing, China             |CH                     |CH22                |13001.0       |39.9289        |116.388              |-1898541       |4                  |Beijing, Beijing, China                     |CH                  |null          |13001.0        |39.9289              |116.388        |-1898541           |4                      |Beijing, Beijing, China                     |null          |null           |13001                |39.9289   |116.388   |null               |null               |null               |2025-08-27 02:53:11.905062|20250827030000.export.CSV|\n",
      "|1259750738     |20240827|202408    |2024|2024.6493    |USA        |UNITED STATES   |USA                |null                   |null              |null                 |null                 |null             |null             |null             |GOV        |ATTORNEY GENERAL|null               |null                   |null              |null                 |null                 |GOV              |null             |null             |1            |026       |026            |02             |1         |4.0            |2           |1          |2           |-7.09534368070953|2              |Arizona, United States              |US                     |USAZ                |null          |33.7712        |-111.388             |AZ             |2                  |Arizona, United States                      |US                  |null          |null           |33.7712              |-111.388       |AZ                 |2                      |Arizona, United States                      |null          |null           |null                 |33.7712   |-111.388  |null               |null               |null               |2025-08-27 02:53:11.905062|20250827030000.export.CSV|\n",
      "|1259750739     |20240827|202408    |2024|2024.6493    |USA        |UNITED STATES   |USA                |null                   |null              |null                 |null                 |null             |null             |null             |GOV        |ATTORNEY GENERAL|null               |null                   |null              |null                 |null                 |GOV              |null             |null             |1            |026       |026            |02             |1         |4.0            |2           |1          |2           |-7.09534368070953|2              |Arizona, United States              |US                     |USAZ                |null          |33.7712        |-111.388             |AZ             |1                  |China                                       |CH                  |null          |null           |35                   |105            |CH                 |1                      |China                                       |null          |null           |null                 |35        |105       |null               |null               |null               |2025-08-27 02:53:11.905062|20250827030000.export.CSV|\n",
      "|1259750740     |20240827|202408    |2024|2024.6493    |USA        |WISCONSIN       |USA                |null                   |null              |null                 |null                 |null             |null             |null             |GOV        |AUTHORITIES     |null               |null                   |null              |null                 |null                 |GOV              |null             |null             |1            |110       |110            |11             |3         |-2.0           |3           |1          |3           |-6.78571428571428|3              |Green Lake, Wisconsin, United States|US                     |USWI                |null          |43.8441        |-88.9601             |1565822        |3                  |Green Lake, Wisconsin, United States        |US                  |null          |null           |43.8441              |-88.9601       |1565822            |3                      |Green Lake, Wisconsin, United States        |null          |null           |null                 |43.8441   |-88.9601  |null               |null               |null               |2025-08-27 02:53:11.905062|20250827030000.export.CSV|\n",
      "|1259750741     |20250820|202508    |2025|2025.6301    |null       |null            |null               |null                   |null              |null                 |null                 |null             |null             |null             |CHN        |CHINA           |CHN                |null                   |null              |null                 |null                 |null             |null             |null             |0            |010       |010            |01             |1         |0.0            |6           |3          |6           |3.13264717962524 |0              |null                                |null                   |null                |null          |null           |null                 |null           |4                  |Tianjin, Tianjin, China                     |CH                  |null          |13279.0        |39.1422              |117.177        |-1928564           |4                      |Tianjin, Tianjin, China                     |null          |null           |13279                |39.1422   |117.177   |null               |null               |null               |2025-08-27 02:53:11.905062|20250827030000.export.CSV|\n",
      "|1259750742     |20250820|202508    |2025|2025.6301    |null       |null            |null               |null                   |null              |null                 |null                 |null             |null             |null             |CHNGOV     |CHINA           |CHN                |null                   |null              |null                 |null                 |GOV              |null             |null             |0            |010       |010            |01             |1         |0.0            |1           |1          |1           |3.09364548494983 |0              |null                                |null                   |null                |null          |null           |null                 |null           |4                  |Tianjin, Tianjin, China                     |CH                  |null          |13279.0        |39.1422              |117.177        |-1928564           |4                      |Shanghai, Shanghai, China                   |null          |null           |13243                |31.2222   |121.458   |null               |null               |null               |2025-08-27 02:53:11.905062|20250827030000.export.CSV|\n",
      "|1259750743     |20250820|202508    |2025|2025.6301    |null       |null            |null               |null                   |null              |null                 |null                 |null             |null             |null             |GOV        |FOREIGN MINIST  |null               |null                   |null              |null                 |null                 |GOV              |null             |null             |0            |010       |010            |01             |1         |0.0            |3           |3          |3           |3.13264717962524 |0              |null                                |null                   |null                |null          |null           |null                 |null           |4                  |Shanghai, Shanghai, China                   |CH                  |null          |13243.0        |31.2222              |121.458        |-1924465           |4                      |Tianjin, Tianjin, China                     |null          |null           |13279                |39.1422   |117.177   |null               |null               |null               |2025-08-27 02:53:11.905062|20250827030000.export.CSV|\n",
      "|1259750744     |20250820|202508    |2025|2025.6301    |null       |null            |null               |null                   |null              |null                 |null                 |null             |null             |null             |USA        |UNITED STATES   |USA                |null                   |null              |null                 |null                 |null             |null             |null             |1            |042       |042            |04             |1         |1.9            |6           |1          |6           |0.0              |0              |null                                |null                   |null                |null          |null           |null                 |null           |3                  |Mount Olive, Mississippi, United States     |US                  |null          |null           |31.7613              |-89.6551       |674103             |3                      |Mount Olive, Mississippi, United States     |null          |null           |null                 |31.7613   |-89.6551  |null               |null               |null               |2025-08-27 02:53:11.905062|20250827030000.export.CSV|\n",
      "|1259750745     |20250820|202508    |2025|2025.6301    |null       |null            |null               |null                   |null              |null                 |null                 |null             |null             |null             |USA        |UNITED STATES   |USA                |null                   |null              |null                 |null                 |null             |null             |null             |1            |042       |042            |04             |1         |1.9            |2           |1          |2           |0.0              |0              |null                                |null                   |null                |null          |null           |null                 |null           |3                  |Covington County, Mississippi, United States|US                  |null          |null           |31.6482              |-89.5528       |695740             |3                      |Covington County, Mississippi, United States|null          |null           |null                 |31.6482   |-89.5528  |null               |null               |null               |2025-08-27 02:53:11.905062|20250827030000.export.CSV|\n",
      "|1259750746     |20250820|202508    |2025|2025.6301    |AFG        |KABUL           |AFG                |null                   |null              |null                 |null                 |null             |null             |null             |PAK        |PAKISTAN        |PAK                |null                   |null              |null                 |null                 |null             |null             |null             |0            |043       |043            |04             |1         |2.8            |1           |1          |1           |0.22271714922049 |4              |Beijing, Beijing, China             |CH                     |CH22                |13001.0       |39.9289        |116.388              |-1898541       |4                  |Kabul, Kabol, Afghanistan                   |AF                  |null          |3580.0         |34.5167              |69.1833        |-3378435           |4                      |Kabul, Kabol, Afghanistan                   |null          |null           |3580                 |34.5167   |69.1833   |null               |null               |null               |2025-08-27 02:53:11.905062|20250827030000.export.CSV|\n",
      "|1259750747     |20250820|202508    |2025|2025.6301    |AFG        |KABUL           |AFG                |null                   |null              |null                 |null                 |null             |null             |null             |PAK        |PAKISTAN        |PAK                |null                   |null              |null                 |null                 |null             |null             |null             |0            |043       |043            |04             |1         |2.8            |3           |1          |3           |0.22271714922049 |4              |Tianjin, Tianjin, China             |CH                     |CH28                |13279.0       |39.1422        |117.177              |-1928564       |4                  |Tianjin, Tianjin, China                     |CH                  |null          |13279.0        |39.1422              |117.177        |-1928564           |4                      |Tianjin, Tianjin, China                     |null          |null           |13279                |39.1422   |117.177   |null               |null               |null               |2025-08-27 02:53:11.905062|20250827030000.export.CSV|\n",
      "|1259750748     |20250820|202508    |2025|2025.6301    |AFG        |KABUL           |AFG                |null                   |null              |null                 |null                 |null             |null             |null             |PAK        |PAKISTAN        |PAK                |null                   |null              |null                 |null                 |null             |null             |null             |0            |043       |043            |04             |1         |2.8            |1           |1          |1           |0.22271714922049 |4              |Tianjin, Tianjin, China             |CH                     |CH28                |13279.0       |39.1422        |117.177              |-1928564       |4                  |Tokyo, Tokyo, Japan                         |JA                  |null          |36340.0        |35.685               |139.751        |-246227            |4                      |Tianjin, Tianjin, China                     |null          |null           |13279                |39.1422   |117.177   |null               |null               |null               |2025-08-27 02:53:11.905062|20250827030000.export.CSV|\n",
      "+---------------+--------+----------+----+-------------+-----------+----------------+-------------------+-----------------------+------------------+---------------------+---------------------+-----------------+-----------------+-----------------+-----------+----------------+-------------------+-----------------------+------------------+---------------------+---------------------+-----------------+-----------------+-----------------+-------------+----------+---------------+---------------+----------+---------------+------------+-----------+------------+-----------------+---------------+------------------------------------+-----------------------+--------------------+--------------+---------------+---------------------+---------------+-------------------+--------------------------------------------+--------------------+--------------+---------------+---------------------+---------------+-------------------+-----------------------+--------------------------------------------+--------------+---------------+---------------------+----------+----------+-------------------+-------------------+-------------------+--------------------------+-------------------------+\n",
      "only showing top 20 rows\n",
      "\n"
     ]
    }
   ],
   "source": [
    "# 샘플 데이터 확인\n",
    "print(\"🔍 샘플 데이터:\")\n",
    "df.show(20, truncate=False)"
   ]
  },
  {
   "cell_type": "code",
   "execution_count": 7,
   "metadata": {},
   "outputs": [
    {
     "name": "stdout",
     "output_type": "stream",
     "text": [
      "root\n",
      " |-- global_event_id: long (nullable = true)\n",
      " |-- day: integer (nullable = true)\n",
      " |-- month_year: integer (nullable = true)\n",
      " |-- year: integer (nullable = true)\n",
      " |-- fraction_date: double (nullable = true)\n",
      " |-- actor1_code: string (nullable = true)\n",
      " |-- actor1_name: string (nullable = true)\n",
      " |-- actor1_country_code: string (nullable = true)\n",
      " |-- actor1_known_group_code: string (nullable = true)\n",
      " |-- actor1_ethnic_code: string (nullable = true)\n",
      " |-- actor1_religion1_code: string (nullable = true)\n",
      " |-- actor1_religion2_code: string (nullable = true)\n",
      " |-- actor1_type1_code: string (nullable = true)\n",
      " |-- actor1_type2_code: string (nullable = true)\n",
      " |-- actor1_type3_code: string (nullable = true)\n",
      " |-- actor2_code: string (nullable = true)\n",
      " |-- actor2_name: string (nullable = true)\n",
      " |-- actor2_country_code: string (nullable = true)\n",
      " |-- actor2_known_group_code: string (nullable = true)\n",
      " |-- actor2_ethnic_code: string (nullable = true)\n",
      " |-- actor2_religion1_code: string (nullable = true)\n",
      " |-- actor2_religion2_code: string (nullable = true)\n",
      " |-- actor2_type1_code: string (nullable = true)\n",
      " |-- actor2_type2_code: string (nullable = true)\n",
      " |-- actor2_type3_code: string (nullable = true)\n",
      " |-- is_root_event: integer (nullable = true)\n",
      " |-- event_code: string (nullable = true)\n",
      " |-- event_base_code: string (nullable = true)\n",
      " |-- event_root_code: string (nullable = true)\n",
      " |-- quad_class: integer (nullable = true)\n",
      " |-- goldstein_scale: double (nullable = true)\n",
      " |-- num_mentions: integer (nullable = true)\n",
      " |-- num_sources: integer (nullable = true)\n",
      " |-- num_articles: integer (nullable = true)\n",
      " |-- avg_tone: double (nullable = true)\n",
      " |-- actor1_geo_type: string (nullable = true)\n",
      " |-- actor1_geo_fullname: string (nullable = true)\n",
      " |-- actor1_geo_country_code: string (nullable = true)\n",
      " |-- actor1_geo_adm1_code: string (nullable = true)\n",
      " |-- actor1_geo_lat: double (nullable = true)\n",
      " |-- actor1_geo_long: double (nullable = true)\n",
      " |-- actor1_geo_feature_id: string (nullable = true)\n",
      " |-- actor2_geo_type: string (nullable = true)\n",
      " |-- actor2_geo_fullname: string (nullable = true)\n",
      " |-- actor2_geo_country_code: string (nullable = true)\n",
      " |-- actor2_geo_adm1_code: string (nullable = true)\n",
      " |-- actor2_geo_lat: double (nullable = true)\n",
      " |-- actor2_geo_long: double (nullable = true)\n",
      " |-- actor2_geo_feature_id: string (nullable = true)\n",
      " |-- action_geo_type: string (nullable = true)\n",
      " |-- action_geo_fullname: string (nullable = true)\n",
      " |-- action_geo_country_code: string (nullable = true)\n",
      " |-- action_geo_adm1_code: string (nullable = true)\n",
      " |-- action_geo_lat: double (nullable = true)\n",
      " |-- action_geo_long: double (nullable = true)\n",
      " |-- action_geo_feature_id: string (nullable = true)\n",
      " |-- date_added: string (nullable = true)\n",
      " |-- source_url: string (nullable = true)\n",
      " |-- actor1_geo_centroid: string (nullable = true)\n",
      " |-- actor2_geo_centroid: string (nullable = true)\n",
      " |-- action_geo_centroid: string (nullable = true)\n",
      " |-- processed_time: timestamp (nullable = true)\n",
      " |-- source_file: string (nullable = true)\n",
      "\n"
     ]
    }
   ],
   "source": [
    "# 스키마 확인\n",
    "df.printSchema()"
   ]
  },
  {
   "cell_type": "code",
   "execution_count": 8,
   "metadata": {},
   "outputs": [
    {
     "name": "stdout",
     "output_type": "stream",
     "text": [
      "+-------------------+-----+\n",
      "|actor1_country_code|count|\n",
      "+-------------------+-----+\n",
      "|               null|  673|\n",
      "|                USA|  363|\n",
      "|                ISR|   54|\n",
      "|                RUS|   30|\n",
      "|                AUS|   29|\n",
      "|                BRA|   27|\n",
      "|                PSE|   23|\n",
      "|                FRA|   21|\n",
      "|                CHN|   21|\n",
      "|                CAN|   20|\n",
      "+-------------------+-----+\n",
      "only showing top 10 rows\n",
      "\n"
     ]
    }
   ],
   "source": [
    "# 간단한 통계\n",
    "df.select(\"actor1_country_code\").groupBy(\"actor1_country_code\").count().orderBy(F.desc(\"count\")).show(10)"
   ]
  },
  {
   "cell_type": "code",
   "execution_count": null,
   "metadata": {},
   "outputs": [],
   "source": [
    "spark.stop()"
   ]
  }
 ],
 "metadata": {
  "kernelspec": {
   "display_name": "Python 3 (ipykernel)",
   "language": "python",
   "name": "python3"
  },
  "language_info": {
   "codemirror_mode": {
    "name": "ipython",
    "version": 3
   },
   "file_extension": ".py",
   "mimetype": "text/x-python",
   "name": "python",
   "nbconvert_exporter": "python",
   "pygments_lexer": "ipython3",
   "version": "3.10.18"
  }
 },
 "nbformat": 4,
 "nbformat_minor": 4
}
